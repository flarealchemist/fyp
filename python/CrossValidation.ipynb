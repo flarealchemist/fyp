{
 "cells": [
  {
   "cell_type": "code",
   "execution_count": 3,
   "metadata": {},
   "outputs": [],
   "source": [
    "import cv2\n",
    "import numpy as np\n",
    "import glob\n",
    "from sklearn.model_selection import KFold"
   ]
  },
  {
   "cell_type": "code",
   "execution_count": 6,
   "metadata": {},
   "outputs": [],
   "source": [
    "ayamgoreng_list = glob.glob('../MYBFOOD20/ayamgoreng/*.png')\n",
    "ayamgoreng_list_np = np.array(ayamgoreng_list)\n",
    "kf = KFold(n_splits=10)\n",
    "for train, test in kf.split(ayamgoreng_list_np):\n",
    "    ayamgoreng_train, ayamgoreng_test = ayamgoreng_list_np[train], ayamgoreng_list_np[test]"
   ]
  },
  {
   "cell_type": "code",
   "execution_count": 9,
   "metadata": {},
   "outputs": [],
   "source": [
    "chickenchop_list = glob.glob('../MYBFOOD20/chickenchop/*.jpg')\n",
    "chickenchop_list_np = np.array(chickenchop_list)\n",
    "kf = KFold(n_splits=10)\n",
    "for train, test in kf.split(chickenchop_list_np):\n",
    "    chickenchop_train, chickenchop_test = chickenchop_list_np[train], chickenchop_list_np[test]"
   ]
  },
  {
   "cell_type": "code",
   "execution_count": 12,
   "metadata": {},
   "outputs": [],
   "source": [
    "ikangoreng_list = glob.glob('../MYBFOOD20/ikangoreng/*.jpg')\n",
    "ikangoreng_list_np = np.array(ikangoreng_list)\n",
    "kf = KFold(n_splits=10)\n",
    "for train, test in kf.split(ikangoreng_list_np):\n",
    "    ikangoreng_train, ikangoreng_test = ikangoreng_list_np[train], ikangoreng_list_np[test]"
   ]
  },
  {
   "cell_type": "code",
   "execution_count": 13,
   "metadata": {},
   "outputs": [],
   "source": [
    "karidaging_list = glob.glob('../MYBFOOD20/karidaging/*.jpg')\n",
    "karidaging_list_np = np.array(karidaging_list)\n",
    "kf = KFold(n_splits=10)\n",
    "for train, test in kf.split(karidaging_list_np):\n",
    "    karidaging_train, karidaging_test = karidaging_list_np[train], karidaging_list_np[test]"
   ]
  },
  {
   "cell_type": "code",
   "execution_count": 14,
   "metadata": {},
   "outputs": [],
   "source": [
    "karipap_list = glob.glob('../MYBFOOD20/karipap/*.png')\n",
    "karipap_list_np = np.array(karipap_list)\n",
    "kf = KFold(n_splits=10)\n",
    "for train, test in kf.split(karipap_list_np):\n",
    "    karipap_train, karipap_test = karipap_list_np[train], karipap_list_np[test]"
   ]
  },
  {
   "cell_type": "code",
   "execution_count": 15,
   "metadata": {},
   "outputs": [],
   "source": [
    "kopi_list = glob.glob('../MYBFOOD20/kopi/*.png')\n",
    "kopi_list_np = np.array(kopi_list)\n",
    "kf = KFold(n_splits=10)\n",
    "for train, test in kf.split(kopi_list_np):\n",
    "    kopi_train, kopi_test = kopi_list_np[train], kopi_list_np[test]"
   ]
  },
  {
   "cell_type": "code",
   "execution_count": 16,
   "metadata": {},
   "outputs": [],
   "source": [
    "lontong_list = glob.glob('../MYBFOOD20/lontong/*.png')\n",
    "lontong_list_np = np.array(lontong_list)\n",
    "kf = KFold(n_splits=10)\n",
    "for train, test in kf.split(lontong_list_np):\n",
    "    lontong_train, lontong_test = lontong_list_np[train], lontong_list_np[test]"
   ]
  },
  {
   "cell_type": "code",
   "execution_count": 17,
   "metadata": {},
   "outputs": [],
   "source": [
    "meegoreng_list = glob.glob('../MYBFOOD20/meegoreng/*.png')\n",
    "meegoreng_list_np = np.array(meegoreng_list)\n",
    "kf = KFold(n_splits=10)\n",
    "for train, test in kf.split(lontong_list_np):\n",
    "    meegoreng_train, meegoreng_test = meegoreng_list_np[train], meegoreng_list_np[test]"
   ]
  },
  {
   "cell_type": "code",
   "execution_count": 18,
   "metadata": {},
   "outputs": [],
   "source": [
    "milo_list = glob.glob('../MYBFOOD20/milo/*.png')\n",
    "milo_list_np = np.array(milo_list)\n",
    "kf = KFold(n_splits=10)\n",
    "for train, test in kf.split(milo_list_np):\n",
    "    milo_train, milo_test = milo_list_np[train], milo_list_np[test]"
   ]
  },
  {
   "cell_type": "code",
   "execution_count": 19,
   "metadata": {},
   "outputs": [],
   "source": [
    "nasigoreng_list = glob.glob('../MYBFOOD20/nasigoreng/*.png')\n",
    "nasigoreng_list_np = np.array(nasigoreng_list)\n",
    "kf = KFold(n_splits=10)\n",
    "for train, test in kf.split(nasigoreng_list_np):\n",
    "    nasigoreng_train, nasigoreng_test = nasigoreng_list_np[train], nasigoreng_list_np[test]"
   ]
  },
  {
   "cell_type": "code",
   "execution_count": 20,
   "metadata": {},
   "outputs": [],
   "source": [
    "nasilemak_list = glob.glob('../MYBFOOD20/nasilemak/*.png')\n",
    "nasilemak_list_np = np.array(nasilemak_list)\n",
    "kf = KFold(n_splits=10)\n",
    "for train, test in kf.split(nasilemak_list_np):\n",
    "    nasilemak_train, nasilemak_test = nasilemak_list_np[train], nasilemak_list_np[test]"
   ]
  },
  {
   "cell_type": "code",
   "execution_count": 21,
   "metadata": {},
   "outputs": [],
   "source": [
    "roticanai_list = glob.glob('../MYBFOOD20/roticanai/*.png')\n",
    "roticanai_list_np = np.array(roticanai_list)\n",
    "kf = KFold(n_splits=10)\n",
    "for train, test in kf.split(roticanai_list_np):\n",
    "    roticanai_train, roticanai_test = roticanai_list_np[train], roticanai_list_np[test]"
   ]
  },
  {
   "cell_type": "code",
   "execution_count": 22,
   "metadata": {},
   "outputs": [],
   "source": [
    "sandwich_list = glob.glob('../MYBFOOD20/sandwich/*.jpg')\n",
    "sandwich_list_np = np.array(sandwich_list)\n",
    "kf = KFold(n_splits=10)\n",
    "for train, test in kf.split(sandwich_list_np):\n",
    "    sandwich_train, sandwich_test = sandwich_list_np[train], sandwich_list_np[test]"
   ]
  },
  {
   "cell_type": "code",
   "execution_count": 23,
   "metadata": {},
   "outputs": [],
   "source": [
    "satay_list = glob.glob('../MYBFOOD20/satay/*.png')\n",
    "satay_list_np = np.array(satay_list)\n",
    "kf = KFold(n_splits=10)\n",
    "for train, test in kf.split(satay_list_np):\n",
    "    satay_train, satay_test = satay_list_np[train], satay_list_np[test]"
   ]
  },
  {
   "cell_type": "code",
   "execution_count": 24,
   "metadata": {},
   "outputs": [],
   "source": [
    "sayur_list = glob.glob('../MYBFOOD20/sayur/*.jpg')\n",
    "sayur_list_np = np.array(sayur_list)\n",
    "kf = KFold(n_splits=10)\n",
    "for train, test in kf.split(sayur_list_np):\n",
    "    sayur_train, sayur_test = sayur_list_np[train], sayur_list_np[test]"
   ]
  },
  {
   "cell_type": "code",
   "execution_count": 25,
   "metadata": {},
   "outputs": [],
   "source": [
    "sirapbandung_list = glob.glob('../MYBFOOD20/sirapbandung/*.png')\n",
    "sirapbandung_list_np = np.array(sirapbandung_list)\n",
    "kf = KFold(n_splits=10)\n",
    "for train, test in kf.split(sirapbandung_list_np):\n",
    "    sirapbandung_train, sirapbandung_test = sirapbandung_list_np[train], sirapbandung_list_np[test]"
   ]
  },
  {
   "cell_type": "code",
   "execution_count": 26,
   "metadata": {},
   "outputs": [],
   "source": [
    "teho_list = glob.glob('../MYBFOOD20/teho/*.png')\n",
    "teho_list_np = np.array(teho_list)\n",
    "kf = KFold(n_splits=10)\n",
    "for train, test in kf.split(teho_list_np):\n",
    "    teho_train, teho_test = teho_list_np[train], teho_list_np[test]"
   ]
  },
  {
   "cell_type": "code",
   "execution_count": 27,
   "metadata": {},
   "outputs": [],
   "source": [
    "tehtarik_list = glob.glob('../MYBFOOD20/tehtarik/*.png')\n",
    "tehtarik_list_np = np.array(tehtarik_list)\n",
    "kf = KFold(n_splits=10)\n",
    "for train, test in kf.split(tehtarik_list_np):\n",
    "    tehtarik_train, tehtarik_test = tehtarik_list_np[train], tehtarik_list_np[test]"
   ]
  },
  {
   "cell_type": "code",
   "execution_count": 28,
   "metadata": {},
   "outputs": [],
   "source": [
    "telur_list = glob.glob('../MYBFOOD20/telur/*.jpg')\n",
    "telur_list_np = np.array(telur_list)\n",
    "kf = KFold(n_splits=10)\n",
    "for train, test in kf.split(telur_list_np):\n",
    "    telur_train, telur_test = telur_list_np[train], telur_list_np[test]"
   ]
  },
  {
   "cell_type": "code",
   "execution_count": 29,
   "metadata": {},
   "outputs": [],
   "source": [
    "toast_list = glob.glob('../MYBFOOD20/toast/*.jpg')\n",
    "toast_list_np = np.array(toast_list)\n",
    "kf = KFold(n_splits=10)\n",
    "for train, test in kf.split(telur_list_np):\n",
    "    toast_train, toast_test = toast_list_np[train], toast_list_np[test]"
   ]
  },
  {
   "cell_type": "code",
   "execution_count": null,
   "metadata": {},
   "outputs": [],
   "source": []
  }
 ],
 "metadata": {
  "kernelspec": {
   "display_name": "Python 3",
   "language": "python",
   "name": "python3"
  },
  "language_info": {
   "codemirror_mode": {
    "name": "ipython",
    "version": 3
   },
   "file_extension": ".py",
   "mimetype": "text/x-python",
   "name": "python",
   "nbconvert_exporter": "python",
   "pygments_lexer": "ipython3",
   "version": "3.7.6"
  }
 },
 "nbformat": 4,
 "nbformat_minor": 2
}
