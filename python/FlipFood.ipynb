{
 "cells": [
  {
   "cell_type": "code",
   "execution_count": 1,
   "metadata": {},
   "outputs": [],
   "source": [
    "import cv2\n",
    "import glob #to extract image file path\n",
    "import numpy as np #numbering module"
   ]
  },
  {
   "cell_type": "code",
   "execution_count": 2,
   "metadata": {},
   "outputs": [],
   "source": [
    "image_list = [cv2.imread(file) for file in glob.glob('../MYBFOOD20/ayamgoreng/*.png')]\n",
    "for i in range(len(image_list)):\n",
    "    flipped = cv2.flip(image_list[i], 1)\n",
    "    cv2.imwrite('../MYBFOOD20/ayamgoreng/ayamgoreng' + '{:03d}'.format(i + 101) + '.png', flipped)"
   ]
  },
  {
   "cell_type": "code",
   "execution_count": 4,
   "metadata": {},
   "outputs": [],
   "source": [
    "image_list = [cv2.imread(file) for file in glob.glob('../MYBFOOD20/chickenchop/*.jpg')]\n",
    "for i in range(len(image_list)):\n",
    "    flipped = cv2.flip(image_list[i], 1)\n",
    "    cv2.imwrite('../MYBFOOD20/chickenchop/chickenchop' + '{:03d}'.format(i + 101) + '.jpg', flipped)"
   ]
  },
  {
   "cell_type": "code",
   "execution_count": 5,
   "metadata": {},
   "outputs": [],
   "source": [
    "image_list = [cv2.imread(file) for file in glob.glob('../MYBFOOD20/ikangoreng/*.jpg')]\n",
    "for i in range(len(image_list)):\n",
    "    flipped = cv2.flip(image_list[i], 1)\n",
    "    cv2.imwrite('../MYBFOOD20/ikangoreng/ikangoreng' + '{:03d}'.format(i + 101) + '.jpg', flipped)"
   ]
  },
  {
   "cell_type": "code",
   "execution_count": 6,
   "metadata": {},
   "outputs": [],
   "source": [
    "image_list = [cv2.imread(file) for file in glob.glob('../MYBFOOD20/karidaging/*.jpg')]\n",
    "for i in range(len(image_list)):\n",
    "    flipped = cv2.flip(image_list[i], 1)\n",
    "    cv2.imwrite('../MYBFOOD20/karidaging/karidaging' + '{:03d}'.format(i + 101) + '.jpg', flipped)"
   ]
  },
  {
   "cell_type": "code",
   "execution_count": 7,
   "metadata": {},
   "outputs": [],
   "source": [
    "image_list = [cv2.imread(file) for file in glob.glob('../MYBFOOD20/karipap/*.png')]\n",
    "for i in range(len(image_list)):\n",
    "    flipped = cv2.flip(image_list[i], 1)\n",
    "    cv2.imwrite('../MYBFOOD20/karipap/karipap' + '{:03d}'.format(i + 101) + '.png', flipped)"
   ]
  },
  {
   "cell_type": "code",
   "execution_count": 8,
   "metadata": {},
   "outputs": [],
   "source": [
    "image_list = [cv2.imread(file) for file in glob.glob('../MYBFOOD20/kopi/*.png')]\n",
    "for i in range(len(image_list)):\n",
    "    flipped = cv2.flip(image_list[i], 1)\n",
    "    cv2.imwrite('../MYBFOOD20/kopi/kopi' + '{:03d}'.format(i + 101) + '.png', flipped)"
   ]
  },
  {
   "cell_type": "code",
   "execution_count": 9,
   "metadata": {},
   "outputs": [],
   "source": [
    "image_list = [cv2.imread(file) for file in glob.glob('../MYBFOOD20/lontong/*.png')]\n",
    "for i in range(len(image_list)):\n",
    "    flipped = cv2.flip(image_list[i], 1)\n",
    "    cv2.imwrite('../MYBFOOD20/lontong/lontong' + '{:03d}'.format(i + 101) + '.png', flipped)"
   ]
  },
  {
   "cell_type": "code",
   "execution_count": 10,
   "metadata": {},
   "outputs": [],
   "source": [
    "image_list = [cv2.imread(file) for file in glob.glob('../MYBFOOD20/meegoreng/*.png')]\n",
    "for i in range(len(image_list)):\n",
    "    flipped = cv2.flip(image_list[i], 1)\n",
    "    cv2.imwrite('../MYBFOOD20/meegoreng/meegoreng' + '{:03d}'.format(i + 101) + '.png', flipped)"
   ]
  },
  {
   "cell_type": "code",
   "execution_count": 11,
   "metadata": {},
   "outputs": [],
   "source": [
    "image_list = [cv2.imread(file) for file in glob.glob('../MYBFOOD20/milo/*.png')]\n",
    "for i in range(len(image_list)):\n",
    "    flipped = cv2.flip(image_list[i], 1)\n",
    "    cv2.imwrite('../MYBFOOD20/milo/milo' + '{:03d}'.format(i + 101) + '.png', flipped)"
   ]
  },
  {
   "cell_type": "code",
   "execution_count": 12,
   "metadata": {},
   "outputs": [],
   "source": [
    "image_list = [cv2.imread(file) for file in glob.glob('../MYBFOOD20/nasigoreng/*.png')]\n",
    "for i in range(len(image_list)):\n",
    "    flipped = cv2.flip(image_list[i], 1)\n",
    "    cv2.imwrite('../MYBFOOD20/nasigoreng/nasigoreng' + '{:03d}'.format(i + 101) + '.png', flipped)"
   ]
  },
  {
   "cell_type": "code",
   "execution_count": 13,
   "metadata": {},
   "outputs": [],
   "source": [
    "image_list = [cv2.imread(file) for file in glob.glob('../MYBFOOD20/nasilemak/*.png')]\n",
    "for i in range(len(image_list)):\n",
    "    flipped = cv2.flip(image_list[i], 1)\n",
    "    cv2.imwrite('../MYBFOOD20/nasilemak/nasilemak' + '{:03d}'.format(i + 101) + '.png', flipped)"
   ]
  },
  {
   "cell_type": "code",
   "execution_count": 14,
   "metadata": {},
   "outputs": [],
   "source": [
    "image_list = [cv2.imread(file) for file in glob.glob('../MYBFOOD20/roticanai/*.png')]\n",
    "for i in range(len(image_list)):\n",
    "    flipped = cv2.flip(image_list[i], 1)\n",
    "    cv2.imwrite('../MYBFOOD20/roticanai/roticanai' + '{:03d}'.format(i + 101) + '.png', flipped)"
   ]
  },
  {
   "cell_type": "code",
   "execution_count": 16,
   "metadata": {},
   "outputs": [],
   "source": [
    "image_list = [cv2.imread(file) for file in glob.glob('../MYBFOOD20/sandwich/*.jpg')]\n",
    "for i in range(len(image_list)):\n",
    "    flipped = cv2.flip(image_list[i], 1)\n",
    "    cv2.imwrite('../MYBFOOD20/sandwich/sandwich' + '{:03d}'.format(i + 101) + '.jpg', flipped)"
   ]
  },
  {
   "cell_type": "code",
   "execution_count": 17,
   "metadata": {},
   "outputs": [],
   "source": [
    "image_list = [cv2.imread(file) for file in glob.glob('../MYBFOOD20/satay/*.png')]\n",
    "for i in range(len(image_list)):\n",
    "    flipped = cv2.flip(image_list[i], 1)\n",
    "    cv2.imwrite('../MYBFOOD20/satay/satay' + '{:03d}'.format(i + 101) + '.png', flipped)"
   ]
  },
  {
   "cell_type": "code",
   "execution_count": 18,
   "metadata": {},
   "outputs": [],
   "source": [
    "image_list = [cv2.imread(file) for file in glob.glob('../MYBFOOD20/sayur/*.jpg')]\n",
    "for i in range(len(image_list)):\n",
    "    flipped = cv2.flip(image_list[i], 1)\n",
    "    cv2.imwrite('../MYBFOOD20/sayur/sayur' + '{:03d}'.format(i + 101) + '.jpg', flipped)"
   ]
  },
  {
   "cell_type": "code",
   "execution_count": 19,
   "metadata": {},
   "outputs": [],
   "source": [
    "image_list = [cv2.imread(file) for file in glob.glob('../MYBFOOD20/sirapbandung/*.png')]\n",
    "for i in range(len(image_list)):\n",
    "    flipped = cv2.flip(image_list[i], 1)\n",
    "    cv2.imwrite('../MYBFOOD20/sirapbandung/sirapbandung' + '{:03d}'.format(i + 101) + '.png', flipped)"
   ]
  },
  {
   "cell_type": "code",
   "execution_count": 20,
   "metadata": {},
   "outputs": [],
   "source": [
    "image_list = [cv2.imread(file) for file in glob.glob('../MYBFOOD20/teho/*.png')]\n",
    "for i in range(len(image_list)):\n",
    "    flipped = cv2.flip(image_list[i], 1)\n",
    "    cv2.imwrite('../MYBFOOD20/teho/teho' + '{:03d}'.format(i + 101) + '.png', flipped)"
   ]
  },
  {
   "cell_type": "code",
   "execution_count": 21,
   "metadata": {},
   "outputs": [],
   "source": [
    "image_list = [cv2.imread(file) for file in glob.glob('../MYBFOOD20/tehtarik/*.png')]\n",
    "for i in range(len(image_list)):\n",
    "    flipped = cv2.flip(image_list[i], 1)\n",
    "    cv2.imwrite('../MYBFOOD20/tehtarik/tehtarik' + '{:03d}'.format(i + 101) + '.png', flipped)"
   ]
  },
  {
   "cell_type": "code",
   "execution_count": 22,
   "metadata": {},
   "outputs": [],
   "source": [
    "image_list = [cv2.imread(file) for file in glob.glob('../MYBFOOD20/telur/*.jpg')]\n",
    "for i in range(len(image_list)):\n",
    "    flipped = cv2.flip(image_list[i], 1)\n",
    "    cv2.imwrite('../MYBFOOD20/telur/telur' + '{:03d}'.format(i + 101) + '.jpg', flipped)"
   ]
  },
  {
   "cell_type": "code",
   "execution_count": 23,
   "metadata": {},
   "outputs": [],
   "source": [
    "image_list = [cv2.imread(file) for file in glob.glob('../MYBFOOD20/toast/*.jpg')]\n",
    "for i in range(len(image_list)):\n",
    "    flipped = cv2.flip(image_list[i], 1)\n",
    "    cv2.imwrite('../MYBFOOD20/toast/toast' + '{:03d}'.format(i + 101) + '.jpg', flipped)"
   ]
  },
  {
   "cell_type": "code",
   "execution_count": null,
   "metadata": {},
   "outputs": [],
   "source": []
  }
 ],
 "metadata": {
  "kernelspec": {
   "display_name": "Python 3",
   "language": "python",
   "name": "python3"
  },
  "language_info": {
   "codemirror_mode": {
    "name": "ipython",
    "version": 3
   },
   "file_extension": ".py",
   "mimetype": "text/x-python",
   "name": "python",
   "nbconvert_exporter": "python",
   "pygments_lexer": "ipython3",
   "version": "3.7.6"
  }
 },
 "nbformat": 4,
 "nbformat_minor": 2
}
